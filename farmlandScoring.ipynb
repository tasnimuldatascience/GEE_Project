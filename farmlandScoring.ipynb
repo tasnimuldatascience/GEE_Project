{
 "cells": [
  {
   "cell_type": "markdown",
   "metadata": {
    "id": "49xNDm-MDhFj"
   },
   "source": [
    "# Dependencies"
   ]
  },
  {
   "cell_type": "markdown",
   "metadata": {
    "id": "w1qiw9rCOn9x"
   },
   "source": [
    "## Install Libraries"
   ]
  },
  {
   "cell_type": "code",
   "execution_count": null,
   "metadata": {
    "colab": {
     "base_uri": "https://localhost:8080/"
    },
    "id": "7BeETXonOjNY",
    "outputId": "56a99db8-2a74-4874-f67b-d7bfa30418f9"
   },
   "outputs": [],
   "source": [
    "!pip install geemap\n",
    "!pip install geopandas\n",
    "# !pip install imgix\n",
    "# !pip install boto3\n",
    "!pip install eefolium\n",
    "!pip install geojson"
   ]
  },
  {
   "cell_type": "markdown",
   "metadata": {
    "id": "hOfNApboJXyV"
   },
   "source": [
    "## Import Libraries"
   ]
  },
  {
   "cell_type": "code",
   "execution_count": null,
   "metadata": {
    "id": "VQucnXNGVwZ7"
   },
   "outputs": [],
   "source": [
    "import google.colab\n",
    "import ee\n",
    "import eefolium\n",
    "import geemap\n",
    "import geopandas as gpd\n",
    "import pandas as pd\n",
    "import altair as alt\n",
    "import numpy as np\n",
    "import folium\n",
    "import matplotlib.pyplot as plt\n",
    "import matplotlib.dates as mdates\n",
    "import matplotlib.dates as dates\n",
    "import seaborn as sns\n",
    "from PIL import Image\n",
    "from datetime import date\n",
    "from datetime import datetime\n",
    "from datetime import datetime as dt\n",
    "import datetime\n",
    "import geojson\n",
    "from IPython.display import Image, HTML"
   ]
  },
  {
   "cell_type": "markdown",
   "metadata": {
    "id": "t8SCDB4Nja9d"
   },
   "source": [
    "## Load and Authenticate Earth Engine (Manual Touchpoint)"
   ]
  },
  {
   "cell_type": "code",
   "execution_count": null,
   "metadata": {
    "colab": {
     "base_uri": "https://localhost:8080/",
     "height": 176
    },
    "id": "fs1h_30_WuJv",
    "outputId": "22f2b903-6ec7-45df-c3b1-6dbe0a2087e5"
   },
   "outputs": [],
   "source": [
    "# Trigger the authentication flow.\n",
    "ee.Authenticate()\n",
    "\n",
    "# Initialize the library.\n",
    "ee.Initialize()"
   ]
  },
  {
   "cell_type": "markdown",
   "metadata": {
    "id": "vikf1sPgDrfq"
   },
   "source": [
    "# AOI"
   ]
  },
  {
   "cell_type": "markdown",
   "metadata": {
    "id": "vYTRgcXrlKdw"
   },
   "source": [
    "## Define Area of interest from geojson"
   ]
  },
  {
   "cell_type": "code",
   "execution_count": null,
   "metadata": {
    "colab": {
     "base_uri": "https://localhost:8080/"
    },
    "id": "8HN46EAygRJH",
    "outputId": "e9c141b3-3776-4872-d55f-d8f6d4cba29c"
   },
   "outputs": [],
   "source": [
    "from google.colab import drive\n",
    "drive.mount('/content/drive/')"
   ]
  },
  {
   "cell_type": "code",
   "execution_count": null,
   "metadata": {
    "colab": {
     "base_uri": "https://localhost:8080/"
    },
    "id": "LtkWMtgsgyVW",
    "outputId": "c6af2b44-4d57-43fd-82b8-276bcdeaf2cf"
   },
   "outputs": [],
   "source": [
    "with open('/content/drive/MyDrive/Farmlands_ifarmer/Fields_geojson/Rice_farmland.geojson') as f:\n",
    "    gj_maize = geojson.load(f)\n",
    "\n",
    "df_geo_maize = pd.DataFrame.from_dict(gj_maize)\n",
    "\n",
    "df_geo_maize['polygon'] = df_geo_maize.features.apply(lambda x: x[\"geometry\"][\"coordinates\"])\n",
    "\n",
    "df_geo_maize['crop'] = df_geo_maize.features.apply(lambda x: x[\"properties\"][\"crop\"])\n",
    "df_geo_maize['farmer'] = df_geo_maize.features.apply(lambda x: x[\"properties\"][\"name\"])\n",
    "\n",
    "a_farm = df_geo_maize['features'][0]['geometry']['coordinates']\n",
    "df_geo_maize['farmer']"
   ]
  },
  {
   "cell_type": "code",
   "execution_count": null,
   "metadata": {
    "id": "wdyTgOSI_qHp"
   },
   "outputs": [],
   "source": [
    "from google.colab import drive\n",
    "drive.mount('/content/drive')"
   ]
  },
  {
   "cell_type": "code",
   "execution_count": null,
   "metadata": {
    "id": "B5QyWbzMOUt1"
   },
   "outputs": [],
   "source": [
    "df_geo_maize['features'][0]['geometry']"
   ]
  },
  {
   "cell_type": "code",
   "execution_count": null,
   "metadata": {
    "id": "HW0wuCUt0OUI"
   },
   "outputs": [],
   "source": [
    "df_geo_maize['features'][0]['properties']"
   ]
  },
  {
   "cell_type": "code",
   "execution_count": null,
   "metadata": {
    "id": "CRIbmSPJk-qh"
   },
   "outputs": [],
   "source": [
    "aoi = ee.Geometry.Polygon(a_farm)\n"
   ]
  },
  {
   "cell_type": "markdown",
   "metadata": {
    "id": "Gk207f3Kkrp1"
   },
   "source": [
    "## Define AOI from FC-GEE"
   ]
  },
  {
   "cell_type": "code",
   "execution_count": null,
   "metadata": {
    "colab": {
     "base_uri": "https://localhost:8080/",
     "height": 17
    },
    "id": "uGV8V4f4k1eP",
    "outputId": "a71a28c2-d8fe-4cb6-de18-afdf9550dd5d"
   },
   "outputs": [],
   "source": [
    "field_id = \"ACMM_br01_1001\"\n",
    "aoi = ee.FeatureCollection(\"projects/ee-ifarmer/assets/br01/br01_farmlands\").filter(\n",
    "    ee.Filter.eq('field_id', field_id))"
   ]
  },
  {
   "cell_type": "markdown",
   "metadata": {
    "id": "Ttk4_VTCaBWY"
   },
   "source": [
    "## AOI from lat long"
   ]
  },
  {
   "cell_type": "code",
   "execution_count": null,
   "metadata": {
    "id": "6v4nP6IVaAwx"
   },
   "outputs": [],
   "source": [
    "# aoi = ee.FeatureCollection( # Jalal uddin m\n",
    "#         [ee.Feature(\n",
    "#             ee.Geometry.Polygon(\n",
    "#                 [[[89.35090823579667, 25.98489032294839],\n",
    "#           [89.35084386278031, 25.984721548383302],\n",
    "#           [89.35111744809983, 25.984639572078546],\n",
    "#           [89.35112281251786, 25.98432613273902],\n",
    "#           [89.35115499902604, 25.983998226074],\n",
    "#           [89.35146077085373, 25.983901782763148],\n",
    "#           [89.35154660154221, 25.983978937418154],\n",
    "#           [89.35161097455857, 25.984210401079338],\n",
    "#           [89.35151977945206, 25.984683113140704],\n",
    "#           [89.35128910947678, 25.98477473367891]]]))])"
   ]
  },
  {
   "cell_type": "markdown",
   "metadata": {
    "id": "Ka-8PY62nG0Z"
   },
   "source": [
    "## Map the AOI"
   ]
  },
  {
   "cell_type": "code",
   "execution_count": null,
   "metadata": {
    "id": "glk5uFSWnFsm"
   },
   "outputs": [],
   "source": [
    "# # Generate map with base map\n",
    "# Map = geemap.Map()\n",
    "# Map.add_basemap('HYBRID')\n",
    "\n",
    "# # Original Farmland\n",
    "# Map.addLayer(aoi, {}, 'Aoi')\n",
    "# # Center the area of Interest\n",
    "# Map.centerObject(aoi, zoom = 20)\n",
    "# Map"
   ]
  },
  {
   "cell_type": "markdown",
   "metadata": {
    "id": "fEebl9JrDzti"
   },
   "source": [
    "# Image preprocessing"
   ]
  },
  {
   "cell_type": "markdown",
   "metadata": {
    "id": "cpJ0r1csfYuL"
   },
   "source": [
    "## Function to Calculate and Add New Bands"
   ]
  },
  {
   "cell_type": "code",
   "execution_count": null,
   "metadata": {
    "colab": {
     "base_uri": "https://localhost:8080/",
     "height": 17
    },
    "id": "-WjbqY5Eh3yG",
    "outputId": "79acea39-a96e-4e9d-85c1-55afff9eda1d"
   },
   "outputs": [],
   "source": [
    "# Add NDRE/NDVI/NDMI/MSAVI Bands\n",
    "\n",
    "# This field contains UNIX time in milliseconds.\n",
    "\n",
    "\n",
    "def addVariables(image):\n",
    "  # Compute time in fractional years since the epoch.\n",
    "  # Get time from metadata of image (converted from milisecond)\n",
    "  timeField = 'system:time_start'\n",
    "  date = ee.Date(image.get(timeField))\n",
    "  # Start conting the year from 1970 to present\n",
    "  years = date.difference(ee.Date('1970-01-01'), 'year')\n",
    "  # Return the image with the added bands.\n",
    "  image = (image\n",
    "          # Add an NDVI band.\n",
    "          .addBands(image.normalizedDifference(['B8', 'B4']).rename('ndvi')).float()\n",
    "          # Add an NDMI band\n",
    "          .addBands(image.normalizedDifference(['B8', 'B11']).rename('ndmi')).float()\n",
    "          # Add an MSAVI band\n",
    "          .addBands(image.expression(\n",
    "          '(2 * NIR + 1 - sqrt(pow((2 * NIR + 1), 2) - 8 * (NIR - RED)) ) / 2',\n",
    "          {\n",
    "            'NIR': image.select('B8'),\n",
    "            'RED': image.select('B4')\n",
    "          }).rename('msavi')).float()\n",
    "          # Add an NDRE band\n",
    "          .addBands(image.normalizedDifference(['B8', 'B5']).rename('ndre')).float()\n",
    "          # Add a time band.\n",
    "          .addBands(ee.Image(years).rename('t').float())\n",
    "          # Add a constant band.\n",
    "          .addBands(ee.Image.constant(1)))\n",
    "\n",
    "  # return image with additional bands\n",
    "  return image"
   ]
  },
  {
   "cell_type": "markdown",
   "metadata": {
    "id": "mvMgJ-prD61a"
   },
   "source": [
    "## Cloud masking"
   ]
  },
  {
   "cell_type": "markdown",
   "metadata": {
    "id": "btYapHmyE6qq"
   },
   "source": [
    "### Cloud Mask Parameters"
   ]
  },
  {
   "cell_type": "code",
   "execution_count": null,
   "metadata": {
    "colab": {
     "base_uri": "https://localhost:8080/",
     "height": 17
    },
    "id": "uRcGiXZvE1kh",
    "outputId": "0aea314a-b178-42f5-fb07-f3c1e4d82498"
   },
   "outputs": [],
   "source": [
    "start_year = '2019'\n",
    "end_year = '2024'\n",
    "CLOUD_FILTER = 95\n",
    "CLD_PRB_THRESH = 50\n",
    "NIR_DRK_THRESH = 0.15\n",
    "CLD_PRJ_DIST = 2\n",
    "BUFFER = 100"
   ]
  },
  {
   "cell_type": "code",
   "execution_count": null,
   "metadata": {
    "colab": {
     "base_uri": "https://localhost:8080/",
     "height": 17
    },
    "id": "bV-iWCMJELDK",
    "outputId": "5db9c47f-0bc6-4eaa-d2be-08b12957f077"
   },
   "outputs": [],
   "source": [
    "def add_cloud_bands(img):\n",
    "    # Get s2cloudless image, subset the probability band.\n",
    "    cld_prb = ee.Image(img.get('s2cloudless')).select('probability')\n",
    "\n",
    "    # Condition s2cloudless by the probability threshold value.\n",
    "    is_cloud = cld_prb.gt(CLD_PRB_THRESH).rename('clouds')\n",
    "\n",
    "    # Add the cloud probability layer and cloud mask as image bands.\n",
    "    return img.addBands(ee.Image([cld_prb, is_cloud]))"
   ]
  },
  {
   "cell_type": "code",
   "execution_count": null,
   "metadata": {
    "colab": {
     "base_uri": "https://localhost:8080/",
     "height": 17
    },
    "id": "SISnmBM0EL3q",
    "outputId": "b093aaa8-2326-4623-9e7c-8bcfc6fd3d8c"
   },
   "outputs": [],
   "source": [
    "def add_shadow_bands(img):\n",
    "    # Identify water pixels from the SCL band.\n",
    "    not_water = img.select('SCL').neq(6)\n",
    "\n",
    "    # Identify dark NIR pixels that are not water (potential cloud shadow pixels).\n",
    "    SR_BAND_SCALE = 1e4\n",
    "    dark_pixels = img.select('B8').lt(NIR_DRK_THRESH*SR_BAND_SCALE).multiply(not_water).rename('dark_pixels')\n",
    "\n",
    "    # Determine the direction to project cloud shadow from clouds (assumes UTM projection).\n",
    "    shadow_azimuth = ee.Number(90).subtract(ee.Number(img.get('MEAN_SOLAR_AZIMUTH_ANGLE')));\n",
    "\n",
    "    # Project shadows from clouds for the distance specified by the CLD_PRJ_DIST input.\n",
    "    cld_proj = (img.select('clouds').directionalDistanceTransform(shadow_azimuth, CLD_PRJ_DIST*10)\n",
    "        .reproject(**{'crs': img.select(0).projection(), 'scale': 100})\n",
    "        .select('distance')\n",
    "        .mask()\n",
    "        .rename('cloud_transform'))\n",
    "\n",
    "    # Identify the intersection of dark pixels with cloud shadow projection.\n",
    "    shadows = cld_proj.multiply(dark_pixels).rename('shadows')\n",
    "\n",
    "    # Add dark pixels, cloud projection, and identified shadows as image bands.\n",
    "    return img.addBands(ee.Image([dark_pixels, cld_proj, shadows]))"
   ]
  },
  {
   "cell_type": "code",
   "execution_count": null,
   "metadata": {
    "colab": {
     "base_uri": "https://localhost:8080/",
     "height": 17
    },
    "id": "fO9MK4CgD6Vz",
    "outputId": "d218197d-5294-4d89-9529-e1c3c2207669"
   },
   "outputs": [],
   "source": [
    "def add_cld_shdw_mask(img):\n",
    "    # Add cloud component bands.\n",
    "    img_cloud = add_cloud_bands(img)\n",
    "\n",
    "    # Add cloud shadow component bands.\n",
    "    img_cloud_shadow = add_shadow_bands(img_cloud)\n",
    "\n",
    "    # Combine cloud and shadow mask, set cloud and shadow as value 1, else 0.\n",
    "    is_cld_shdw = img_cloud_shadow.select('clouds').add(img_cloud_shadow.select('shadows')).gt(0)\n",
    "\n",
    "    # Remove small cloud-shadow patches and dilate remaining pixels by BUFFER input.\n",
    "    # 20 m scale is for speed, and assumes clouds don't require 10 m precision.\n",
    "    is_cld_shdw = (is_cld_shdw.focalMin(2).focalMax(BUFFER*2/20)\n",
    "        .reproject(**{'crs': img.select([0]).projection(), 'scale': 20})\n",
    "        .rename('cloudmask'))\n",
    "\n",
    "    # Add the final cloud-shadow mask to the image.\n",
    "    return img_cloud_shadow.addBands(is_cld_shdw)"
   ]
  },
  {
   "cell_type": "code",
   "execution_count": null,
   "metadata": {
    "colab": {
     "base_uri": "https://localhost:8080/",
     "height": 17
    },
    "id": "AkfEcYYDEii6",
    "outputId": "f0884917-f5d2-4c2b-8a9f-fdaff055d9e6"
   },
   "outputs": [],
   "source": [
    "def apply_cld_shdw_mask(img):\n",
    "    # Subset the cloudmask band and invert it so clouds/shadow are 0, else 1.\n",
    "    not_cld_shdw = img.select('cloudmask').Not()\n",
    "\n",
    "    # Subset reflectance bands and update their masks, return the result.\n",
    "    return img.select('B.*').updateMask(not_cld_shdw)"
   ]
  },
  {
   "cell_type": "markdown",
   "metadata": {
    "id": "itD1QvfUnfzl"
   },
   "source": [
    "# Query Sentinel 2 Image Collections (Both Level 1C and Level 2A)"
   ]
  },
  {
   "cell_type": "code",
   "execution_count": null,
   "metadata": {
    "colab": {
     "base_uri": "https://localhost:8080/",
     "height": 17
    },
    "id": "FJttFJ0glwqt",
    "outputId": "082f1721-0f1f-4178-91a6-d71b2986b60d"
   },
   "outputs": [],
   "source": [
    "# Query two different qualities of Sentinel 2 collections\n",
    "# Add Bands to every satellite image in each Sentinel 2 collection\n",
    "# Merge the two Sentinel 2 collections together\n",
    "# .filterMetadata(\"CLOUDY_PIXEL_OVER_LAND_PERCENTAGE\", \"less_than\", 50)\n",
    "\n",
    "# Add bands to Satellite Image to Sentinel 2 (Level 2-A)\n",
    "# filteredSentinelCollection1 = (ee.ImageCollection(\"COPERNICUS/S2_SR\")\n",
    "#                               .filterBounds(aoi)\n",
    "#                               .filterDate('2018', '2024')\n",
    "#                               .map(addVariables))\n",
    "                              # .map(add_cld_shdw_mask)\n",
    "                              # .map(apply_cld_shdw_mask));\n",
    "\n",
    "# # Add bands to Satellite Image to Sentinel 2 (Level 1-C)\n",
    "# filteredSentinelCollection2 = ee.ImageCollection(\"COPERNICUS/S2\") \\\n",
    "#                               .filterBounds(aoi) \\\n",
    "#                               .filterMetadata(\"CLOUDY_PIXEL_PERCENTAGE\", \"less_than\", 90) \\\n",
    "#                               .filterDate('2018', '2024') \\\n",
    "#                               .map(addVariables);\n",
    "def get_s2_sr_cld_col(aoi, start_year, end_year):\n",
    "    # Import and filter S2 SR.\n",
    "    s2_sr_col = (ee.ImageCollection('COPERNICUS/S2_SR')\n",
    "        .filterBounds(aoi)\n",
    "        .filterDate(start_year, end_year)\n",
    "        .filter(ee.Filter.lte('CLOUDY_PIXEL_PERCENTAGE', CLOUD_FILTER)))\n",
    "\n",
    "    # Import and filter s2cloudless.\n",
    "    s2_cloudless_col = (ee.ImageCollection('COPERNICUS/S2_CLOUD_PROBABILITY')\n",
    "        .filterBounds(aoi)\n",
    "        .filterDate(start_year, end_year))\n",
    "\n",
    "    # Join the filtered s2cloudless collection to the SR collection by the 'system:index' property.\n",
    "    return ee.ImageCollection(ee.Join.saveFirst('s2cloudless').apply(**{\n",
    "        'primary': s2_sr_col,\n",
    "        'secondary': s2_cloudless_col,\n",
    "        'condition': ee.Filter.equals(**{\n",
    "            'leftField': 'system:index',\n",
    "            'rightField': 'system:index'\n",
    "        })\n",
    "    }))"
   ]
  },
  {
   "cell_type": "markdown",
   "metadata": {
    "id": "j5peUitmSecj"
   },
   "source": [
    "# Merge the two Sentinel 2 Image Collections"
   ]
  },
  {
   "cell_type": "code",
   "execution_count": null,
   "metadata": {
    "colab": {
     "base_uri": "https://localhost:8080/",
     "height": 17
    },
    "id": "NdoUivBkSvyt",
    "outputId": "fd72cfc9-e638-4d27-aa43-5dd377c0a35b"
   },
   "outputs": [],
   "source": [
    "# Merge two imagecollection together\n",
    "#filteredSentinelCollection = merge_two_image_collections(filteredSentinelCollection1, filteredSentinelCollection2)\n",
    "\n",
    "# filteredSentinelCollection = filteredSentinelCollection1 \\\n",
    "#                             .merge(filteredSentinelCollection2) \\\n",
    "#                             .sort('system:time_start', True);\n",
    "\n",
    "# filteredSentinelCollection = filteredSentinelCollection1\n",
    "s2_sr_cld_col = get_s2_sr_cld_col(aoi, start_year, end_year)\n",
    "filteredSentinelCollection = s2_sr_cld_col.map(add_cld_shdw_mask).map(apply_cld_shdw_mask).map(addVariables)\n",
    "# filteredSentinelCollection"
   ]
  },
  {
   "cell_type": "markdown",
   "metadata": {
    "id": "Hg_JAmYkodaU"
   },
   "source": [
    "# Define Scale and Projection"
   ]
  },
  {
   "cell_type": "code",
   "execution_count": null,
   "metadata": {
    "colab": {
     "base_uri": "https://localhost:8080/",
     "height": 17
    },
    "id": "1TKV7TAdogoc",
    "outputId": "5ec67d33-8437-4618-938a-de62b2c9de12"
   },
   "outputs": [],
   "source": [
    "sentinel_pro = filteredSentinelCollection.first().select('ndvi').projection();\n",
    "CopyScale = sentinel_pro.nominalScale();\n",
    "# CopyScale\n",
    "# print(CopyScale, 'original scale Sentinel (m)')"
   ]
  },
  {
   "cell_type": "code",
   "execution_count": null,
   "metadata": {
    "colab": {
     "base_uri": "https://localhost:8080/",
     "height": 17
    },
    "id": "E3Le4BpipX_B",
    "outputId": "eee74457-c27b-40bc-a05e-f8d7faafd8ab"
   },
   "outputs": [],
   "source": [
    "def sentinel_resample(image):\n",
    "  return image.reproject(sentinel_pro, None, 10).reduceResolution(\n",
    "      **{\n",
    "      \"reducer\": ee.Reducer.mean(),\n",
    "      \"maxPixels\": 1024\n",
    "  }).copyProperties(image)\n",
    "#insert here the desired scale in meters\n",
    "#Force the next reprojection to aggregate instead of resampling."
   ]
  },
  {
   "cell_type": "code",
   "execution_count": null,
   "metadata": {
    "colab": {
     "base_uri": "https://localhost:8080/",
     "height": 17
    },
    "id": "qludtjJmqnUP",
    "outputId": "6417f25c-f66a-4b60-8d62-4c7acc40e2aa"
   },
   "outputs": [],
   "source": [
    "sentinelResample = filteredSentinelCollection.map(sentinel_resample)"
   ]
  },
  {
   "cell_type": "markdown",
   "metadata": {
    "id": "pOdeYGid6fdi"
   },
   "source": [
    "# Functions"
   ]
  },
  {
   "cell_type": "markdown",
   "metadata": {
    "id": "3HtUVtX-zgUt"
   },
   "source": [
    "## Spaced Points function"
   ]
  },
  {
   "cell_type": "code",
   "execution_count": null,
   "metadata": {
    "colab": {
     "base_uri": "https://localhost:8080/",
     "height": 17
    },
    "id": "m2NN43G7uM4O",
    "outputId": "84731b51-01ad-4eb0-8284-e5e0f1801a04"
   },
   "outputs": [],
   "source": [
    "def spacedPoints(AOI, projection):\n",
    "  # make a coordinate image\n",
    "  # get coordinates image\n",
    "  latlon = ee.Image.pixelLonLat().reproject(projection);\n",
    "  # put each lon lat in a list -> this time for getting an multipoint list (more useful inside the GEE)\n",
    "  coords = (latlon.select(['longitude', 'latitude']).reduceRegion(\n",
    "      **{'reducer': ee.Reducer.toList(),\n",
    "         'geometry': AOI,\n",
    "         'scale': projection.nominalScale().toInt(),\n",
    "         'maxPixels': 10e10\n",
    "         }));\n",
    "  # zip the coordinates for representation. Example: zip([1, 3],[2, 4]) --> [[1, 2], [3,4]]\n",
    "  point_list = ee.List(coords.get('longitude')).zip(ee.List(coords.get('latitude')));\n",
    "  # preset a random list\n",
    "  listp = ee.List([0]);\n",
    "  # map over the point list and add features as geometry\n",
    "  def point_func(point):\n",
    "    ind = point_list.indexOf(point);\n",
    "    feat = ee.Feature(ee.Geometry.Point(point_list.get(ind)), {'ID': ind});\n",
    "    return listp.add(feat);\n",
    "\n",
    "  feats = ee.FeatureCollection(point_list.map(point_func).flatten().removeAll([0]));\n",
    "  return feats;"
   ]
  },
  {
   "cell_type": "markdown",
   "metadata": {
    "id": "gXPpquZ_xpY6"
   },
   "source": [
    "## Zonal Statistics function"
   ]
  },
  {
   "cell_type": "code",
   "execution_count": null,
   "metadata": {
    "colab": {
     "base_uri": "https://localhost:8080/",
     "height": 17
    },
    "id": "WnJ5eHULuu0I",
    "outputId": "540c775b-e8ac-4329-c834-39614b2ab48d"
   },
   "outputs": [],
   "source": [
    "def zonalStats(ic, fc, params):\n",
    "  # Initialize internal params dictionary.\n",
    "  _params = {\n",
    "      'reducer': ee.Reducer.mean(),\n",
    "      'scale': None,\n",
    "      'crs': None,\n",
    "      'bands': None,\n",
    "      'bandsRename': None,\n",
    "      'imgProps': None,\n",
    "      'imgPropsRename': None,\n",
    "      'datetimeName': 'datetime',\n",
    "      'datetimeFormat': 'YYYY-MM-dd'\n",
    "      };\n",
    "\n",
    "  # Replace initialized params with provided params.\n",
    "  if params:\n",
    "    for param in params:\n",
    "      _params[param] = params[param] or _params[param];\n",
    "\n",
    "  # Set default parameters based on an image representative.\n",
    "  imgRep = ic.first();\n",
    "  nonSystemImgProps = ee.Feature(None).copyProperties(imgRep).propertyNames()\n",
    "  if not _params['bands']:\n",
    "    _params['bands'] = imgRep.bandNames()\n",
    "  if not _params['bandsRename']:\n",
    "    _params['bandsRename'] = _params['bands'];\n",
    "  if not _params['imgProps']:\n",
    "    _params['imgProps'] = nonSystemImgProps;\n",
    "  if not _params['imgPropsRename']:\n",
    "    _params['imgPropsRename'] = _params['imgProps'];\n",
    "\n",
    "  def img_func(img):\n",
    "    # Select bands (optionally rename), set a datetime & timestamp property.\n",
    "    img = ee.Image(img.select(_params['bands'], _params['bandsRename'])) \\\n",
    "    .set(_params['datetimeName'], img.date().format(_params['datetimeFormat'])) \\\n",
    "    .set('timestamp', img.get('system:time_start'));\n",
    "\n",
    "    # Define final image property dictionary to set in output features.\n",
    "    propsFrom = ee.List(_params['imgProps']) \\\n",
    "    .cat(ee.List([_params['datetimeName'], 'timestamp']));\n",
    "    propsTo = ee.List(_params['imgPropsRename']) \\\n",
    "    .cat(ee.List([_params['datetimeName'], 'timestamp']));\n",
    "    imgProps = img.toDictionary(propsFrom).rename(propsFrom, propsTo);\n",
    "\n",
    "    # Subset points that intersect the given image.\n",
    "    fcSub = fc.filterBounds(img.geometry());\n",
    "\n",
    "    def f_func(f):  # Add Metadata to each feature\n",
    "      return f.set(imgProps)\n",
    "\n",
    "    # Reduce the image by regions.\n",
    "    return img.reduceRegions(\n",
    "        **{\n",
    "        'collection': fcSub,\n",
    "        'reducer': _params['reducer'],\n",
    "        'scale': _params['scale'],\n",
    "        'crs': _params['crs']\n",
    "        }).map(f_func);\n",
    "\n",
    "  # Map the reduceRegions function over the image collection.\n",
    "  results = ic.map(img_func).flatten().filter(ee.Filter.notNull(_params['bandsRename']));\n",
    "\n",
    "  return results;"
   ]
  },
  {
   "cell_type": "markdown",
   "metadata": {
    "id": "PkmVGaod3b65"
   },
   "source": [
    "# Define Date Range"
   ]
  },
  {
   "cell_type": "code",
   "execution_count": null,
   "metadata": {
    "colab": {
     "base_uri": "https://localhost:8080/",
     "height": 17
    },
    "id": "64cFXCK_7KxN",
    "outputId": "875afe54-9f45-45dd-cfa4-751a2e479bab"
   },
   "outputs": [],
   "source": [
    "dates = pd.date_range(start='01/17/2022', end='06/12/2022', freq='5D') #month/date/year\n",
    "t_date = \"2022/01/17\"\n",
    "\n",
    "reference_date = np.datetime64('2022-01-17')"
   ]
  },
  {
   "cell_type": "markdown",
   "metadata": {
    "id": "KPpTJg40aLTp"
   },
   "source": [
    "## Merged GDF"
   ]
  },
  {
   "cell_type": "code",
   "execution_count": null,
   "metadata": {
    "colab": {
     "base_uri": "https://localhost:8080/",
     "height": 138
    },
    "id": "mO1oZDOLgVL1",
    "outputId": "17cd4f47-e7a2-42a0-d897-2cb9adb3c7c1"
   },
   "outputs": [],
   "source": [
    "merged_gdf = pd.DataFrame() # Empty df\n",
    "\n",
    "time_start_overall = datetime.datetime.now()\n",
    "flag = False\n",
    "\n",
    "for i in range(len(dates)-1):\n",
    "  start_date = dates[i]\n",
    "  end_date = dates[i+1]\n",
    "\n",
    "  latestImg = sentinelResample.filterDate(start_date, end_date).first().clip(aoi)\n",
    "\n",
    "  # NDVI\n",
    "  ndvi = latestImg.select('ndvi');\n",
    "  # NDMI\n",
    "  ndmi = latestImg.select('ndmi');\n",
    "  # MSAVI\n",
    "  msavi = latestImg.select('msavi');\n",
    "  # NDRE\n",
    "  ndre = latestImg.select('ndre');\n",
    "\n",
    "  projection = ndvi.projection();\n",
    "\n",
    "  pts = spacedPoints(aoi, projection);\n",
    "\n",
    "  ptsTopo = pts;\n",
    "\n",
    "  # Concatenate four Bands of the Image\n",
    "  vi = ee.Image.cat(ndvi,ndmi, msavi, ndre)\n",
    "\n",
    "  # Wrap the single image in an ImageCollection for use in the zonalStats function.\n",
    "  viCol = ee.ImageCollection([vi]);\n",
    "\n",
    "  # Define parameters for the zonalStats function.\n",
    "  params = {\n",
    "      'bands': [0, 1, 2, 3],\n",
    "      'bandsRename': ['ndvi','ndmi', 'msavi', 'ndre']}\n",
    "\n",
    "  # Extract zonal statistics per point per image.\n",
    "  ptsTopoStats = zonalStats(viCol, ptsTopo, params)\n",
    "  merged_data = ptsTopoStats\n",
    "\n",
    "  # print(merged_data.size())\n",
    "  # if ee.Number(merged_data.size()) > 0:\n",
    "  #   pass\n",
    "  # else:\n",
    "  #   print(start_date)\n",
    "  #   continue\n",
    "\n",
    "  # For loop for Featurecollection to geoDataframe\n",
    "  count = 1\n",
    "  chunk = 5000\n",
    "  selectors = ['ndvi', 'ndre', 'msavi', 'ndmi', 'timestamp', 'CLOUDY_PIXEL_PERCENTAGE']\n",
    "\n",
    "  start_time = datetime.datetime.now()\n",
    "  for i in range(0,10000000, chunk):\n",
    "    time_start = datetime.datetime.now()\n",
    "\n",
    "    subset_data = ee.FeatureCollection(merged_data.toList(chunk, i))\n",
    "    # print(datetime.datetime.now() - time_start, count, 'To list')\n",
    "\n",
    "    start_time_gdf = datetime.datetime.now()\n",
    "\n",
    "    try:\n",
    "      subset_gdf = geemap.ee_to_geopandas(subset_data.select(selectors))\n",
    "    except:\n",
    "      flag = True\n",
    "      print(start_date)\n",
    "      break\n",
    "    # print(datetime.datetime.now() - start_time_gdf, count, 'To gdf')\n",
    "    merged_gdf = pd.concat([merged_gdf, subset_gdf], ignore_index=True)\n",
    "    # merged_gdf = merged_gdf.append(subset_gdf, ignore_index=True)\n",
    "\n",
    "    # print(datetime.datetime.now() - time_start, count)\n",
    "\n",
    "    if len(subset_gdf) < chunk:\n",
    "      # print(len(subset_gdf), i)\n",
    "      duration = datetime.datetime.now() - start_time\n",
    "      # print(duration, 'finish')\n",
    "      break\n",
    "\n",
    "    count += 1\n",
    "\n",
    "  if flag == True:\n",
    "    continue\n",
    "\n",
    "print(datetime.datetime.now() - time_start_overall)"
   ]
  },
  {
   "cell_type": "code",
   "execution_count": null,
   "metadata": {
    "colab": {
     "base_uri": "https://localhost:8080/",
     "height": 17
    },
    "id": "3Zs1hsiNEnEq",
    "outputId": "707377ae-ace5-47b9-ba26-d564c8b68d64"
   },
   "outputs": [],
   "source": [
    "# (merged_data).type()"
   ]
  },
  {
   "cell_type": "code",
   "execution_count": null,
   "metadata": {
    "colab": {
     "base_uri": "https://localhost:8080/",
     "height": 143
    },
    "id": "G_Q5RZ1--TLr",
    "outputId": "4abb3c95-e9b8-4dcc-e4e4-a71af714a243"
   },
   "outputs": [],
   "source": [
    "merged_gdf.head(3)\n",
    "# merged_gdf.to_csv(\"merged_gdf.csv\", index = False)"
   ]
  },
  {
   "cell_type": "code",
   "execution_count": null,
   "metadata": {
    "colab": {
     "base_uri": "https://localhost:8080/",
     "height": 17
    },
    "id": "NIFy1M5aRXVi",
    "outputId": "bd0aa24c-8458-40ef-b59e-818e43e9af3c"
   },
   "outputs": [],
   "source": [
    "merged_gdf['timestamp'] = pd.to_datetime(merged_gdf.timestamp,unit='ms',)\n",
    "sat_df = merged_gdf[:] #[merged_gdf.timestamp > datetime.datetime(2022,9,1)]"
   ]
  },
  {
   "cell_type": "code",
   "execution_count": null,
   "metadata": {
    "colab": {
     "base_uri": "https://localhost:8080/",
     "height": 143
    },
    "id": "b76S_lN8dKkU",
    "outputId": "943f9a7c-f6a0-4852-dcd4-136d8272c855"
   },
   "outputs": [],
   "source": [
    "sat_df.head(3)\n",
    "# sat_df.to_csv('sat_df_cloud_2020.csv',index=False)"
   ]
  },
  {
   "cell_type": "code",
   "execution_count": null,
   "metadata": {
    "colab": {
     "base_uri": "https://localhost:8080/",
     "height": 17
    },
    "id": "0bswUwVP8O8y",
    "outputId": "b79a535b-8ecd-4964-a67f-ca6469f03ce0"
   },
   "outputs": [],
   "source": [
    "# sat_df[sat_df.CLOUDY_PIXEL_OVER_LAND_PERCENTAGE>70]"
   ]
  },
  {
   "cell_type": "markdown",
   "metadata": {
    "id": "hsVpMmDO_pxR"
   },
   "source": [
    "## GDF Function Depricated"
   ]
  },
  {
   "cell_type": "code",
   "execution_count": null,
   "metadata": {
    "colab": {
     "base_uri": "https://localhost:8080/",
     "height": 17
    },
    "id": "LdZaWA5pMxx7",
    "outputId": "3e11c32d-5a65-43dc-dc04-1fffa415c503"
   },
   "outputs": [],
   "source": [
    "# def get_pixel_df(df):\n",
    "\n",
    "#     list_cols = list(df.timestamp.unique())\n",
    "#     print(list_cols)\n",
    "#     geo_id = list(df.geo.unique())\n",
    "\n",
    "\n",
    "#     sub_df = pd.DataFrame(columns=list_cols,index=geo_id)\n",
    "\n",
    "#     i=0\n",
    "#     for id_c in geo_id:\n",
    "\n",
    "\n",
    "\n",
    "#         df_1 = df[df.geo == id_c]\n",
    "\n",
    "\n",
    "#         for dis in list_cols:\n",
    "\n",
    "\n",
    "#             sub_df[dis][i] = df_1[df_1.timestamp==dis].ndvi.values[0]\n",
    "\n",
    "#         i+=1\n",
    "\n",
    "#     return sub_df.reset_index().rename(columns={'index':'geo_id'})"
   ]
  },
  {
   "cell_type": "markdown",
   "metadata": {
    "id": "u15KPHE8BDeI"
   },
   "source": [
    "## GDF Function"
   ]
  },
  {
   "cell_type": "code",
   "execution_count": null,
   "metadata": {
    "colab": {
     "base_uri": "https://localhost:8080/",
     "height": 17
    },
    "id": "Zuln62V697U8",
    "outputId": "d33cccf7-b61c-4aa8-98d7-9222b7093d92"
   },
   "outputs": [],
   "source": [
    "def get_efficient_pixelDF(df):\n",
    "    sub_df = df.pivot(index='geo', columns='timestamp', values='ndre')\n",
    "    return sub_df"
   ]
  },
  {
   "cell_type": "code",
   "execution_count": null,
   "metadata": {
    "colab": {
     "base_uri": "https://localhost:8080/",
     "height": 329
    },
    "id": "sobbS_rd9_fk",
    "outputId": "e4680f2a-a4bd-4fc8-ca55-5349ca54d942"
   },
   "outputs": [],
   "source": [
    "ndre_df = sat_df[['ndre','timestamp','geometry']]\n",
    "# ndre_df['timestamp']=pd.to_datetime(ndre_df.timestamp,unit='ms',)\n",
    "\n",
    "# ndre_df.rename(columns={'geometry':'geo'},inplace=True)\n",
    "ndre_df['geo'] = ndre_df['geometry'].apply(lambda x: str(x))\n",
    "\n",
    "ndre_df['geo']=ndre_df['geo'].str[7:-1]\n",
    "ndre_df[[\"long\", \"lat\"]] = ndre_df[\"geo\"].str.split(\" \", expand=True)\n",
    "\n",
    "ndre_df['long'] = ndre_df['long'].str[0:13]\n",
    "ndre_df['lat'] = ndre_df['lat'].str[0:13]\n",
    "ndre_df['geo'] = ndre_df.long+','+ndre_df.lat\n",
    "\n",
    "ndre_df['timestamp'] = ndre_df['timestamp'].dt.date\n",
    "# ndre_df['timestamp'] = ndre_df['timestamp'].dt.date\n",
    "# ndre_df.sort_values('timestamp', inplace=True)\n",
    "ndre_df.timestamp = ndre_df.timestamp.astype('str')"
   ]
  },
  {
   "cell_type": "code",
   "execution_count": null,
   "metadata": {
    "colab": {
     "base_uri": "https://localhost:8080/",
     "height": 52
    },
    "id": "pxXKt8NO-Y7z",
    "outputId": "4843c84b-a76f-4022-f7f1-16d1e4324e13"
   },
   "outputs": [],
   "source": [
    "%%time\n",
    "df = get_efficient_pixelDF(ndre_df)\n",
    "df.columns.name = None\n",
    "df_main = get_efficient_pixelDF(ndre_df)\n",
    "df_main.columns.name = None"
   ]
  },
  {
   "cell_type": "code",
   "execution_count": null,
   "metadata": {
    "colab": {
     "base_uri": "https://localhost:8080/",
     "height": 275
    },
    "id": "-mfgqhamaFmj",
    "outputId": "a3aa6ede-d77c-458b-ffef-ee10169aecf2"
   },
   "outputs": [],
   "source": [
    "df.head()"
   ]
  },
  {
   "cell_type": "code",
   "execution_count": null,
   "metadata": {
    "colab": {
     "base_uri": "https://localhost:8080/",
     "height": 17
    },
    "id": "REUwuPlC-jjB",
    "outputId": "e4d0601c-4baf-4507-9861-20ba5e76fe33"
   },
   "outputs": [],
   "source": [
    "# df.head(100)\n",
    "df= df.reset_index().rename(columns={'geo':'geo_id'})\n",
    "# df.to_excel('gdf_data.xlsx',index=False)"
   ]
  },
  {
   "cell_type": "code",
   "execution_count": null,
   "metadata": {
    "colab": {
     "base_uri": "https://localhost:8080/",
     "height": 17
    },
    "id": "w2J0Rw80iCCj",
    "outputId": "19c0800e-1aa4-43ed-91c0-d17d035e956f"
   },
   "outputs": [],
   "source": [
    "# df\n",
    "# df_main.to_excel('main_df.xlsx',index=False)"
   ]
  },
  {
   "cell_type": "markdown",
   "metadata": {
    "id": "CMcSMC13aXn8"
   },
   "source": [
    "## Matrix DF"
   ]
  },
  {
   "cell_type": "code",
   "execution_count": null,
   "metadata": {
    "colab": {
     "base_uri": "https://localhost:8080/",
     "height": 17
    },
    "id": "05_aP3LYQZiS",
    "outputId": "72a18ff4-863b-4105-ce1a-5dda82424994"
   },
   "outputs": [],
   "source": [
    "df_short = df[:]"
   ]
  },
  {
   "cell_type": "code",
   "execution_count": null,
   "metadata": {
    "colab": {
     "base_uri": "https://localhost:8080/",
     "height": 17
    },
    "id": "FkHzH1YmZ8AE",
    "outputId": "6d41ff14-cebe-4805-988b-87ef684b3b0b"
   },
   "outputs": [],
   "source": [
    "df_copy = df[:]\n",
    "# df_copy = df.copy()\n",
    "# df_copy\n",
    "# df.to_csv(\"df_matrix.csv\", index = False)"
   ]
  },
  {
   "cell_type": "code",
   "execution_count": null,
   "metadata": {
    "colab": {
     "base_uri": "https://localhost:8080/",
     "height": 17
    },
    "id": "XHQhfuR5v4F9",
    "outputId": "0812e3af-9536-43b4-9333-49f0b03b6067"
   },
   "outputs": [],
   "source": [
    "def age_range(data_frame):\n",
    "    filtered_columns_4 = [col for col in data_frame.columns.values if ((isinstance(col, int) and 30 <= col < 115) or (isinstance(col, str) and col == 'geo_id'))]\n",
    "\n",
    "    filtered_columns_1 = [col for col in data_frame.columns.values if ((isinstance(col, int) and 40 <= col < 65) or (isinstance(col, str) and col == 'geo_id'))]\n",
    "    filtered_columns_2 = [col for col in data_frame.columns.values if ((isinstance(col, int) and 65 <= col < 95) or (isinstance(col, str) and col == 'geo_id'))]\n",
    "    filtered_columns_3 = [col for col in data_frame.columns.values if ((isinstance(col, int) and 95 <= col < 115) or (isinstance(col, str) and col == 'geo_id'))]\n",
    "\n",
    "\n",
    "    data_frame.columns = data_frame.columns.astype(str)\n",
    "\n",
    "    filtered_df_1 = data_frame[[str(element) for element in filtered_columns_1]]\n",
    "    filtered_df_2 = data_frame[[str(element) for element in filtered_columns_2]]\n",
    "    filtered_df_3 = data_frame[[str(element) for element in filtered_columns_3]]\n",
    "    filtered_df_4 = data_frame[[str(element) for element in filtered_columns_4]]\n",
    "\n",
    "    return filtered_df_1, filtered_df_2, filtered_df_3, filtered_df_4"
   ]
  },
  {
   "cell_type": "code",
   "execution_count": null,
   "metadata": {
    "colab": {
     "base_uri": "https://localhost:8080/",
     "height": 17
    },
    "id": "XXtHo24awon_",
    "outputId": "fba20d89-5e30-4ccb-ab73-3f46bfcaa8c1"
   },
   "outputs": [],
   "source": [
    "def df_2_day(df_m, t_date):\n",
    "    data_frame = df_m.copy()\n",
    "    col_name = list(data_frame.columns.values)\n",
    "    for i in range(len(col_name)-1):\n",
    "        new_date = (lambda x: x.replace(\"-\", \"/\"))(str(col_name[i+1]))\n",
    "        t_date = (lambda x: x.replace(\"-\", \"/\"))(t_date)\n",
    "\n",
    "        # difference between dates in timedelta\n",
    "        res = (dt.strptime(new_date, \"%Y/%m/%d\") - dt.strptime(t_date, \"%Y/%m/%d\")).days\n",
    "        data_frame.columns.values[i+1] = res\n",
    "    # return df\n",
    "\n",
    "    df1, df2, df3, df4 = age_range(data_frame)\n",
    "    return df1, df2, df3, df4"
   ]
  },
  {
   "cell_type": "code",
   "execution_count": null,
   "metadata": {
    "colab": {
     "base_uri": "https://localhost:8080/",
     "height": 17
    },
    "id": "MSPmeZ7439yU",
    "outputId": "a084ff75-2c05-4081-9146-4acc47d2cce8"
   },
   "outputs": [],
   "source": [
    "df_4065, df_6595, df_95115, df_30115 = df_2_day(df_copy, t_date)"
   ]
  },
  {
   "cell_type": "code",
   "execution_count": null,
   "metadata": {
    "colab": {
     "base_uri": "https://localhost:8080/",
     "height": 208
    },
    "id": "ZuXeqZtjB93r",
    "outputId": "eb8c0fda-0c36-4ff7-a997-ce6b9d16a254"
   },
   "outputs": [],
   "source": [
    "# df_30115.to_csv('df_30115_2020_tree.csv', index = False)\n",
    "df_30115.isna().sum()"
   ]
  },
  {
   "cell_type": "code",
   "execution_count": null,
   "metadata": {
    "colab": {
     "base_uri": "https://localhost:8080/",
     "height": 739
    },
    "id": "-QV8pEo81cEd",
    "outputId": "8cd58ea6-617a-479c-cb06-9dad8579de37"
   },
   "outputs": [],
   "source": [
    "df_30115.head(100)"
   ]
  },
  {
   "cell_type": "code",
   "execution_count": null,
   "metadata": {
    "colab": {
     "base_uri": "https://localhost:8080/",
     "height": 34
    },
    "id": "D1phSL1yUakK",
    "outputId": "75730478-8d27-4583-8fba-3dc569294c12"
   },
   "outputs": [],
   "source": [
    "df.shape"
   ]
  },
  {
   "cell_type": "markdown",
   "metadata": {
    "id": "Vr7eZlgisP7d"
   },
   "source": [
    "## Matrix Define"
   ]
  },
  {
   "cell_type": "code",
   "execution_count": null,
   "metadata": {
    "colab": {
     "base_uri": "https://localhost:8080/",
     "height": 17
    },
    "id": "K70xA-sGQfOK",
    "outputId": "7be79c5e-f56d-4c14-f9e8-0885f7f7905c"
   },
   "outputs": [],
   "source": [
    "matrix_cols_4065 = ['<0', '0-.01', '.01-.06', '.06-.08', '.08-.10', '.10-.12', '.12-.14', '.14-.17', '>.17']\n",
    "list_col_range_4065 = [-1, 0, .01, .06, .08, .1, .12, .14, .17, 1]\n",
    "\n",
    "matrix_cols_6595 = ['<0', '0-.1', '.1-.15', '.15-.2', '.2-.27', '.27-.32', '.32-.37', '.37-.42', '>.42']\n",
    "list_col_range_6595 = [-1, 0, .1, .15, .2, .27, .32, .37, .42, 1]\n",
    "\n",
    "matrix_cols_95115 = ['<0', '0-.01', '.01-.06', '.06-.09', '.09-.10', '.10-.12', '.12-.17', '.17-.22', '>.22']\n",
    "list_col_range_95115 = [-1, 0, .01, .06, .09, .10, .12, .17, .22, 1]\n",
    "# crop_mapper = {'paddy': {'stage_1': {'weight': .2, ndvi_ranges: [-1, 0, .2, .3, .35, .4, .45, .5, .55, 1]}}}\n",
    "\n",
    "\n",
    "matrix_cols = ['<0', '0-.1', '.1-.2', '.2-.3', '.3-.35', '.35-.4', '.4-.5', '.5-.7', '>.7']\n",
    "# matrix_cols = ['<0', '0-.1', '.1-.2', '.2-.3','>.3']\n",
    "list_col_range = [-1, 0, .1, .2, .3, .35, .4, .5, .7, 1]\n",
    "# list_col_range = [-1, 0, .1, .2, .3, 1]\n",
    "\n",
    "\n",
    "# matrix_rows = ['<10%', '10-30%', '30-50%', '50-70%', '70-90%', '>90%']\n",
    "# list_row_range = [0, .1, .3, .5, .7, .9, 1]\n",
    "\n",
    "# df_matrix = pd.DataFrame(0, index=matrix_rows, columns=matrix_cols)\n",
    "# # df_matrix"
   ]
  },
  {
   "cell_type": "markdown",
   "metadata": {
    "id": "McyXkpn8xY9z"
   },
   "source": [
    "## Matrix"
   ]
  },
  {
   "cell_type": "code",
   "execution_count": null,
   "metadata": {
    "colab": {
     "base_uri": "https://localhost:8080/",
     "height": 17
    },
    "id": "Im_mAaK8Vzex",
    "outputId": "0875e56b-a5fc-409a-f602-1113d50854ab"
   },
   "outputs": [],
   "source": [
    "def df_2_mat(dataframe, mat_col, list_col_ran):\n",
    "\n",
    "    mat_row = ['<10%', '10-30%', '30-50%', '50-70%', '70-90%', '>90%']\n",
    "    list_row_ran = [0, .1, .3, .5, .7, .9, 1]\n",
    "\n",
    "    mat = pd.DataFrame(0, index=mat_row, columns=mat_col)\n",
    "\n",
    "    pixels = list(dataframe.geo_id.unique())\n",
    "    count_val = dataframe.shape[1] - 1\n",
    "    count = 0\n",
    "    for pixel in pixels:\n",
    "        ndvi_count_dict = dict.fromkeys(mat_col, 0)\n",
    "        ndvi_vals = list(dataframe.iloc[count].values)[1:]\n",
    "        for ndvi in ndvi_vals:\n",
    "            for i in range(len(list_col_ran)-1):\n",
    "                start_val = list_col_ran[i]\n",
    "                end_val = list_col_ran[i+1]\n",
    "                if ndvi>=start_val and ndvi<=end_val:\n",
    "                    ndvi_count_dict[mat_col[i]] += 1\n",
    "                    break\n",
    "\n",
    "        ndvi_ratio_dict = {key: ndvi_count_dict[key]/count_val for key, val in ndvi_count_dict.items() if val>0}\n",
    "    #     print(ndvi_ratio_dict)\n",
    "\n",
    "        for k,v in ndvi_ratio_dict.items():\n",
    "            for j in range(len(list_row_ran)-1):\n",
    "                start_val = list_row_ran[j]\n",
    "                end_val = list_row_ran[j+1]\n",
    "                if v>=start_val and v<=end_val:\n",
    "                    mat.at[mat_row[j], k] = mat.at[mat_row[j], k] + 1\n",
    "                    break\n",
    "\n",
    "        count += 1\n",
    "    return mat"
   ]
  },
  {
   "cell_type": "code",
   "execution_count": null,
   "metadata": {
    "colab": {
     "base_uri": "https://localhost:8080/",
     "height": 17
    },
    "id": "gxk8plFkUzYC",
    "outputId": "0595f999-b149-4d42-e219-a20af29965cd"
   },
   "outputs": [],
   "source": [
    "df_matrix_4065 = df_2_mat(df_4065, matrix_cols_4065, list_col_range_4065)\n",
    "df_matrix_6595 = df_2_mat(df_6595, matrix_cols_6595, list_col_range_6595)\n",
    "df_matrix_95115 = df_2_mat(df_95115, matrix_cols_95115, list_col_range_95115)"
   ]
  },
  {
   "cell_type": "code",
   "execution_count": null,
   "metadata": {
    "colab": {
     "base_uri": "https://localhost:8080/",
     "height": 237
    },
    "id": "Ih8GtSUbWKy5",
    "outputId": "7cd9bf90-195f-44e7-f822-164db5a493b0"
   },
   "outputs": [],
   "source": [
    "df_matrix_4065"
   ]
  },
  {
   "cell_type": "code",
   "execution_count": null,
   "metadata": {
    "colab": {
     "base_uri": "https://localhost:8080/",
     "height": 237
    },
    "id": "fHhUNBiJVyk6",
    "outputId": "9bf2159e-f7d3-40cd-e5ab-83fee1165e79"
   },
   "outputs": [],
   "source": [
    "df_matrix_6595"
   ]
  },
  {
   "cell_type": "code",
   "execution_count": null,
   "metadata": {
    "colab": {
     "base_uri": "https://localhost:8080/",
     "height": 237
    },
    "id": "cLZmPGljWBG6",
    "outputId": "713d6150-1bc9-4cb0-8672-5ebc54e0d031"
   },
   "outputs": [],
   "source": [
    "df_matrix_95115"
   ]
  },
  {
   "cell_type": "code",
   "execution_count": null,
   "metadata": {
    "id": "Uj1F7LosQ0AC"
   },
   "outputs": [],
   "source": [
    "# df_matrix\n",
    "# /len(df_short)*100"
   ]
  },
  {
   "cell_type": "code",
   "execution_count": null,
   "metadata": {
    "colab": {
     "base_uri": "https://localhost:8080/",
     "height": 17
    },
    "id": "BVvqvUMMyG_c",
    "outputId": "1b88dc57-6df7-4957-e7dc-4584afae9e24"
   },
   "outputs": [],
   "source": [
    "def mat_2_fscore(mat, length):\n",
    "    length = int(length)\n",
    "    row,col = mat.shape\n",
    "    farm_score_sum = 0\n",
    "    max_score = 10\n",
    "    count_ = 0\n",
    "    for i in range(row, row-4, -1):\n",
    "      for j in range(col, col-3, -1):\n",
    "\n",
    "        pixel_score = max(mat.iloc[i-1,j-1]*(max_score - ((row-i) + (col-j+(count_)))), 0)\n",
    "        farm_score_sum += pixel_score\n",
    "        # print(i, j, pixel_score)\n",
    "\n",
    "        count_ += 1\n",
    "\n",
    "      farm_score_mat = farm_score_sum/(length * max_score)*10\n",
    "\n",
    "    return farm_score_mat"
   ]
  },
  {
   "cell_type": "code",
   "execution_count": null,
   "metadata": {
    "colab": {
     "base_uri": "https://localhost:8080/",
     "height": 34
    },
    "id": "z44rAAgQXWaH",
    "outputId": "1385766c-5e7e-482c-efce-2e2cfee86e3e"
   },
   "outputs": [],
   "source": [
    "farm_score_4065 = mat_2_fscore(df_matrix_4065, len(df_4065))\n",
    "farm_score_4065"
   ]
  },
  {
   "cell_type": "code",
   "execution_count": null,
   "metadata": {
    "colab": {
     "base_uri": "https://localhost:8080/",
     "height": 34
    },
    "id": "s766uV-_XlY0",
    "outputId": "b0150f6d-e5ec-435f-cb56-6602798457e8"
   },
   "outputs": [],
   "source": [
    "farm_score_6595 = mat_2_fscore(df_matrix_6595, len(df_6595))\n",
    "farm_score_6595"
   ]
  },
  {
   "cell_type": "code",
   "execution_count": null,
   "metadata": {
    "colab": {
     "base_uri": "https://localhost:8080/",
     "height": 34
    },
    "id": "mDaszGn7X8v4",
    "outputId": "3e09bed8-400d-4353-961c-8c1bb8d2f85c"
   },
   "outputs": [],
   "source": [
    "farm_score_95115 = mat_2_fscore(df_matrix_95115, len(df_95115))\n",
    "farm_score_95115"
   ]
  },
  {
   "cell_type": "markdown",
   "metadata": {
    "id": "KHEUluernd_g"
   },
   "source": [
    "## Farm Score Matrix"
   ]
  },
  {
   "cell_type": "code",
   "execution_count": null,
   "metadata": {
    "colab": {
     "base_uri": "https://localhost:8080/",
     "height": 34
    },
    "id": "epWHlg9Scj74",
    "outputId": "6e1201ce-fb93-49a3-be22-108e063f6da9"
   },
   "outputs": [],
   "source": [
    "farm_score_mat = (farm_score_4065*.15 + farm_score_6595*.65 + farm_score_95115*.2)\n",
    "farm_score_mat"
   ]
  },
  {
   "cell_type": "markdown",
   "metadata": {
    "id": "pkgXS43txeYS"
   },
   "source": [
    "## DF"
   ]
  },
  {
   "cell_type": "code",
   "execution_count": null,
   "metadata": {
    "colab": {
     "base_uri": "https://localhost:8080/",
     "height": 808
    },
    "id": "_m0VlN-zXnRr",
    "outputId": "9953c297-a5a3-4120-e1f3-4c36fd3f575c"
   },
   "outputs": [],
   "source": [
    "df_main\n",
    "# df.to_csv(\"df.csv\", index = False)"
   ]
  },
  {
   "cell_type": "markdown",
   "metadata": {
    "id": "a8n_0fk9yjuH"
   },
   "source": [
    "# New Section"
   ]
  },
  {
   "cell_type": "markdown",
   "metadata": {
    "id": "JJZFx7BobimC"
   },
   "source": [
    "## Line Chart"
   ]
  },
  {
   "cell_type": "code",
   "execution_count": null,
   "metadata": {
    "id": "c54WUl1kd-iN"
   },
   "outputs": [],
   "source": [
    "col_means = df_main.median(axis = 0)"
   ]
  },
  {
   "cell_type": "code",
   "execution_count": null,
   "metadata": {
    "colab": {
     "base_uri": "https://localhost:8080/"
    },
    "id": "YRk22E2ZeJHP",
    "outputId": "d4fb0a73-0926-42d9-a33a-75ac65ab39f1"
   },
   "outputs": [],
   "source": [
    "col_means"
   ]
  },
  {
   "cell_type": "code",
   "execution_count": null,
   "metadata": {
    "id": "eIsC155VfMjy"
   },
   "outputs": [],
   "source": [
    "# plt.plot(col_means)\n",
    "# plt.ion()\n",
    "# plt.show()\n",
    "# plt.axis('auto')\n",
    "# plt.gca().autoscale(enable=True)\n",
    "# plt.gca().set(xscale='linear', yscale='linear')\n",
    "# plt.gca().format_coord = lambda x, y: f'x={x:.2f}, y={y:.2f}'\n",
    "\n",
    "# # keep plot window open\n",
    "# while True:\n",
    "#     plt.pause(0.1)"
   ]
  },
  {
   "cell_type": "code",
   "execution_count": null,
   "metadata": {
    "id": "I5cD3Ramh-JU"
   },
   "outputs": [],
   "source": [
    "# import plotly.graph_objs as go"
   ]
  },
  {
   "cell_type": "code",
   "execution_count": null,
   "metadata": {
    "id": "7ZO5naCSiHSM"
   },
   "outputs": [],
   "source": [
    "# fig = go.Figure()"
   ]
  },
  {
   "cell_type": "code",
   "execution_count": null,
   "metadata": {
    "id": "sObeU1f2iPJn"
   },
   "outputs": [],
   "source": [
    "# fig.add_trace(go.Scatter(x = df['']))"
   ]
  },
  {
   "cell_type": "code",
   "execution_count": null,
   "metadata": {
    "id": "bf9qTd-qbgF0"
   },
   "outputs": [],
   "source": [
    "# print(type(df))"
   ]
  },
  {
   "cell_type": "markdown",
   "metadata": {
    "id": "qeKreb6IRUjc"
   },
   "source": [
    "## Cloud percentage"
   ]
  },
  {
   "cell_type": "code",
   "execution_count": null,
   "metadata": {
    "colab": {
     "base_uri": "https://localhost:8080/"
    },
    "id": "cVh2-xBNC6NE",
    "outputId": "68db3469-87af-4292-aa94-6767728f08d7"
   },
   "outputs": [],
   "source": [
    "cloudFilter = merged_gdf[merged_gdf.CLOUDY_PIXEL_PERCENTAGE>50].timestamp.unique(), merged_gdf[merged_gdf.ndvi.isna()].timestamp.unique()\n",
    "cloudFilter"
   ]
  },
  {
   "cell_type": "code",
   "execution_count": null,
   "metadata": {
    "id": "QU_8qsGSacGn"
   },
   "outputs": [],
   "source": [
    "merged_gdf['Month']  = merged_gdf.timestamp.dt.month_name()\n",
    "merged_gdf['Month_Numb']  = merged_gdf.timestamp.dt.month"
   ]
  },
  {
   "cell_type": "code",
   "execution_count": null,
   "metadata": {
    "id": "mpwm4Iwyc7nf"
   },
   "outputs": [],
   "source": [
    "monthdf = merged_gdf[merged_gdf.CLOUDY_PIXEL_PERCENTAGE>30].Month_Numb.value_counts()/merged_gdf.Month_Numb.value_counts() * 100\n",
    "monthdf.fillna(0)"
   ]
  },
  {
   "cell_type": "code",
   "execution_count": null,
   "metadata": {
    "id": "GL9BAZPgRllC"
   },
   "outputs": [],
   "source": [
    "# gdf_1st520 = ee.FeatureCollection(merged_data.toList(520))"
   ]
  },
  {
   "cell_type": "code",
   "execution_count": null,
   "metadata": {
    "id": "Ht2BI7BiMMqP"
   },
   "outputs": [],
   "source": [
    "# from google.colab import drive\n",
    "# drive.mount('drive')"
   ]
  },
  {
   "cell_type": "code",
   "execution_count": null,
   "metadata": {
    "id": "_2ZwRxCrQn9X"
   },
   "outputs": [],
   "source": [
    "# start_export = datetime.datetime.now()\n",
    "# merged_gdf.to_csv('datagetvalue_merged_gdf.csv')\n",
    "# !cp datagetvalue_merged_gdf.csv \"/content/drive/MyDrive/iFarmer_data\"\n",
    "# datetime.datetime.now() - start_export"
   ]
  },
  {
   "cell_type": "markdown",
   "metadata": {
    "id": "Lf655KnF0ALp"
   },
   "source": [
    "# Merged Data"
   ]
  },
  {
   "cell_type": "code",
   "execution_count": null,
   "metadata": {
    "id": "79g0YKBDQBGn"
   },
   "outputs": [],
   "source": [
    "# if i == 0:\n",
    "#   merged_data = ptsTopoStats\n",
    "# else:\n",
    "#   merged_data = merged_data.merge(ptsTopoStats)"
   ]
  },
  {
   "cell_type": "code",
   "execution_count": null,
   "metadata": {
    "id": "PnVBSfmgXf-v"
   },
   "outputs": [],
   "source": [
    "# task = ee.batch.Export.table.toDrive(collection = merged_data,  # an ee.Image object.\n",
    "#                                      description = 'shorishabari_Demo_colab_Feb2128_all',\n",
    "#                                      folder='iFarmer_data',\n",
    "#                                      selectors = ['ndvi', 'ndre', 'msavi', 'ndmi', 'timestamp', '.geo'])"
   ]
  },
  {
   "cell_type": "code",
   "execution_count": null,
   "metadata": {
    "id": "gbyCEueiWFFf"
   },
   "outputs": [],
   "source": [
    "# task.start()"
   ]
  },
  {
   "cell_type": "code",
   "execution_count": null,
   "metadata": {
    "id": "EE5X4XXkZHmE"
   },
   "outputs": [],
   "source": [
    "# task.status()"
   ]
  },
  {
   "cell_type": "code",
   "execution_count": null,
   "metadata": {
    "id": "sXiUnHjAZlnC"
   },
   "outputs": [],
   "source": []
  },
  {
   "cell_type": "code",
   "execution_count": null,
   "metadata": {
    "id": "2QvCEM1IZJYT"
   },
   "outputs": [],
   "source": [
    "# roi_test = [[89.47687222,25.79155833],\n",
    "#                   [89.47677222,25.79167222],\n",
    "#                   [89.47648333,25.79143889],\n",
    "#                   [89.47658333,25.79134444],\n",
    "#                   [89.47687222,25.79155833]]\n",
    "# # ee.Geometry.Rectangle([-80.05, 25.79, -79.76, 26.07])\n",
    "\n",
    "# # Define the time range of interest\n",
    "# start_date = '2021-01-01'\n",
    "# end_date = '2021-04-30'\n",
    "\n",
    "# # Load the Sentinel-1 dataset\n",
    "# sentinel1 = ee.ImageCollection('COPERNICUS/S1_GRD')\n",
    "\n",
    "# # Filter the data to include only the desired polarization and date range\n",
    "# vh_imgs = sentinel1.filter(ee.Filter.listContains('transmitterReceiverPolarisation', 'VH')) \\\n",
    "#                  .filterDate(start_date, end_date) \\\n",
    "#                  .filterBounds(roi_test)\n",
    "\n",
    "# # Select the first image from the filtered collection\n",
    "# vh_img = ee.Image(vh_imgs.first())\n",
    "\n",
    "# # Get the radar backscatter data for the VH polarization\n",
    "# vh_backscatter = vh_img.select('VH')\n",
    "\n",
    "# # Get the data as a numpy array\n",
    "# vh_backscatter_array = vh_backscatter.getDownloadUrl({\n",
    "#     'scale': 10,\n",
    "#     'crs': 'EPSG:4326',\n",
    "#     'region': roi_test\n",
    "# })"
   ]
  },
  {
   "cell_type": "code",
   "execution_count": null,
   "metadata": {
    "id": "RjLUs4YvZXKb"
   },
   "outputs": [],
   "source": [
    "# roi_test.getInfo()['coordinates'][0]"
   ]
  },
  {
   "cell_type": "code",
   "execution_count": null,
   "metadata": {
    "id": "ktf-V0BXq1PH"
   },
   "outputs": [],
   "source": []
  },
  {
   "cell_type": "markdown",
   "metadata": {
    "id": "ekwpeR2H5Ag_"
   },
   "source": [
    "# Farm Scoring"
   ]
  },
  {
   "cell_type": "code",
   "execution_count": null,
   "metadata": {
    "colab": {
     "base_uri": "https://localhost:8080/",
     "height": 17
    },
    "id": "seGH66e55G6T",
    "outputId": "b2cb1dee-9b81-463d-e30b-fe66b1f443f7"
   },
   "outputs": [],
   "source": [
    "col_means = df_main.median(axis = 0)\n",
    "col_means = col_means.astype(str)"
   ]
  },
  {
   "cell_type": "code",
   "execution_count": null,
   "metadata": {
    "colab": {
     "base_uri": "https://localhost:8080/",
     "height": 243
    },
    "id": "KIv2Iq4ZxJIC",
    "outputId": "26fa5551-ebe8-47cf-bfc2-3d90b8791c29"
   },
   "outputs": [],
   "source": [
    "col_means"
   ]
  },
  {
   "cell_type": "code",
   "execution_count": null,
   "metadata": {
    "colab": {
     "base_uri": "https://localhost:8080/",
     "height": 243
    },
    "id": "464cX4g80gMf",
    "outputId": "30efe1df-3c98-497b-aad5-689ecca3463b"
   },
   "outputs": [],
   "source": [
    "col_means_df = col_means.to_frame('NDRE').reset_index().rename(columns={'index': 'Date'})\n",
    "\n",
    "print(col_means_df)"
   ]
  },
  {
   "cell_type": "code",
   "execution_count": null,
   "metadata": {
    "colab": {
     "base_uri": "https://localhost:8080/",
     "height": 425
    },
    "id": "rCgr3O1V0_Pl",
    "outputId": "5e9ff066-f099-4846-9cee-2e1a804ed1de"
   },
   "outputs": [],
   "source": [
    "col_means_df['Date'] = pd.to_datetime(col_means_df['Date'])\n",
    "col_means_df['NDRE'] = col_means_df['NDRE'].astype(float)\n",
    "col_means_df['DAT'] = col_means_df['Date'].apply(lambda x: (x - reference_date).days)\n",
    "col_means_df"
   ]
  },
  {
   "cell_type": "code",
   "execution_count": null,
   "metadata": {
    "colab": {
     "base_uri": "https://localhost:8080/",
     "height": 143
    },
    "id": "o9Mmf3Zf70Nt",
    "outputId": "e83cda56-7387-45f1-dc9e-e8cbce894681"
   },
   "outputs": [],
   "source": [
    "# Define the bin edges\n",
    "bins = [40, 65, 95, 115]\n",
    "# Bin the values in the DAT column\n",
    "col_means_df['DAT_bin'] = pd.cut(col_means_df['DAT'], bins=bins)\n",
    "# Group the data by the DAT_bin column and calculate the mean of the Value column for each group\n",
    "avg_df = col_means_df.groupby('DAT_bin')['NDRE'].median().reset_index()\n",
    "avg_df"
   ]
  },
  {
   "cell_type": "code",
   "execution_count": null,
   "metadata": {
    "colab": {
     "base_uri": "https://localhost:8080/",
     "height": 17
    },
    "id": "mImlD3FNQBJ1",
    "outputId": "1fb31ecb-bebc-4eaa-8d41-7e8b9000d371"
   },
   "outputs": [],
   "source": [
    "avg_df['DAT_bin'] = avg_df['DAT_bin'].astype(str)"
   ]
  },
  {
   "cell_type": "markdown",
   "metadata": {
    "id": "EitHJOq6UPsW"
   },
   "source": [
    "## Conditons"
   ]
  },
  {
   "cell_type": "code",
   "execution_count": null,
   "metadata": {
    "colab": {
     "base_uri": "https://localhost:8080/",
     "height": 17
    },
    "id": "USrFYH239dk7",
    "outputId": "a83e5e01-3489-46d8-9456-0eaef99eb1d7"
   },
   "outputs": [],
   "source": [
    "def condition_1(x):\n",
    "    if x >= 0.4:\n",
    "        return 10\n",
    "    elif x >= 0.35:\n",
    "        return 9\n",
    "    elif x >= 0.3:\n",
    "        return 8\n",
    "    elif x >= 0.25:\n",
    "        return 7\n",
    "    elif x >= 0.2:\n",
    "        return 6\n",
    "    elif x >= 0.15:\n",
    "        return 5\n",
    "    else:\n",
    "        return 3\n",
    "\n",
    "def condition_2(x):\n",
    "    if x >= 0.5:\n",
    "        return 10\n",
    "    elif x >= 0.45:\n",
    "        return 9\n",
    "    elif x >= 0.4:\n",
    "        return 8\n",
    "    elif x >= 0.35:\n",
    "        return 7\n",
    "    elif x >= 0.3:\n",
    "        return 6\n",
    "    elif x >= 0.25:\n",
    "        return 5\n",
    "    else:\n",
    "        return 3\n",
    "\n",
    "def condition_3(x):\n",
    "    if x >= 0.45:\n",
    "        return 10\n",
    "    elif x >= 0.4:\n",
    "        return 9\n",
    "    elif x >= 0.35:\n",
    "        return 8\n",
    "    elif x >= 0.3:\n",
    "        return 7\n",
    "    elif x >= 0.25:\n",
    "        return 6\n",
    "    elif x >= 0.2:\n",
    "        return 5\n",
    "    else:\n",
    "        return 3"
   ]
  },
  {
   "cell_type": "code",
   "execution_count": null,
   "metadata": {
    "colab": {
     "base_uri": "https://localhost:8080/",
     "height": 86
    },
    "id": "-Yo9pmEvTMNe",
    "outputId": "3e51c309-5ff6-40c4-aa0e-b48df47137fa"
   },
   "outputs": [],
   "source": [
    "# Define a function that applies different conditions based on the value in the DAT_bin column\n",
    "def apply_conditions(df):\n",
    "    conditions = [\n",
    "        (df['DAT_bin'] == '(40, 65]'),\n",
    "        (df['DAT_bin'] == '(65, 95]'),\n",
    "        (df['DAT_bin'] == '(95, 115]')\n",
    "    ]\n",
    "\n",
    "    choices = [df['NDRE'].apply(condition_1), df['NDRE'].apply(condition_2), df['NDRE'].apply(condition_3)]\n",
    "\n",
    "    df['Score'] = np.select(conditions, choices)\n",
    "\n",
    "# Call the function with the avg_df DataFrame as an argument\n",
    "apply_conditions(avg_df)\n",
    "\n",
    "print(avg_df)"
   ]
  },
  {
   "cell_type": "markdown",
   "metadata": {
    "id": "nSzOuGkbVefB"
   },
   "source": [
    "## Farm Scoring"
   ]
  },
  {
   "cell_type": "code",
   "execution_count": null,
   "metadata": {
    "colab": {
     "base_uri": "https://localhost:8080/",
     "height": 34
    },
    "id": "Fd2VA1s7VTjK",
    "outputId": "371e8587-e27a-4523-808f-de39a0d9e4ec"
   },
   "outputs": [],
   "source": [
    "# Define the weights\n",
    "weights = [0.2, 0.65, 0.15]\n",
    "\n",
    "# Calculate the weighted average of the values in the Status column\n",
    "farm_score_df = (avg_df['Score'] * weights).sum()\n",
    "\n",
    "print('Farm Score DF = ',farm_score_df)"
   ]
  },
  {
   "cell_type": "code",
   "execution_count": null,
   "metadata": {
    "colab": {
     "base_uri": "https://localhost:8080/",
     "height": 34
    },
    "id": "3uzmDpowdcCc",
    "outputId": "e33b9495-79c1-4659-ba77-279a817f265a"
   },
   "outputs": [],
   "source": [
    "farm_score = (farm_score_mat*.4 + farm_score_df*.6)\n",
    "print('Farm Score = ', farm_score)"
   ]
  },
  {
   "cell_type": "code",
   "execution_count": null,
   "metadata": {
    "id": "2yPcie-H1Bmv"
   },
   "outputs": [],
   "source": []
  }
 ],
 "metadata": {
  "colab": {
   "collapsed_sections": [
    "vYTRgcXrlKdw",
    "Ttk4_VTCaBWY",
    "a8n_0fk9yjuH",
    "qeKreb6IRUjc",
    "Lf655KnF0ALp"
   ],
   "provenance": []
  },
  "kernelspec": {
   "display_name": "Python 3 (ipykernel)",
   "language": "python",
   "name": "python3"
  },
  "language_info": {
   "codemirror_mode": {
    "name": "ipython",
    "version": 3
   },
   "file_extension": ".py",
   "mimetype": "text/x-python",
   "name": "python",
   "nbconvert_exporter": "python",
   "pygments_lexer": "ipython3",
   "version": "3.11.5"
  }
 },
 "nbformat": 4,
 "nbformat_minor": 1
}
